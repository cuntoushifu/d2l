{
 "cells": [
  {
   "cell_type": "code",
   "execution_count": 1,
   "id": "initial_id",
   "metadata": {
    "collapsed": true,
    "ExecuteTime": {
     "end_time": "2023-08-20T08:25:20.154253500Z",
     "start_time": "2023-08-20T08:25:17.576845600Z"
    }
   },
   "outputs": [
    {
     "name": "stderr",
     "output_type": "stream",
     "text": [
      "C:\\Users\\CunTouShiFu\\.conda\\envs\\d2l\\lib\\site-packages\\requests\\__init__.py:87: RequestsDependencyWarning: urllib3 (1.26.16) or chardet (5.2.0) doesn't match a supported version!\n",
      "  warnings.warn(\"urllib3 ({}) or chardet ({}) doesn't match a supported \"\n"
     ]
    }
   ],
   "source": [
    "%matplotlib inline\n",
    "import numpy as np\n",
    "from matplotlib_inline import backend_inline\n",
    "from d2l import torch as d2l\n",
    "\n",
    "\n",
    "def f(x):\n",
    "    return 3 * x ** 2 - 4 * x\n"
   ]
  },
  {
   "cell_type": "code",
   "execution_count": 2,
   "outputs": [
    {
     "name": "stdout",
     "output_type": "stream",
     "text": [
      "h=0.1000000 , numerical limit = 2.3000000\n",
      "h=0.0100000 , numerical limit = 2.0300000\n",
      "h=0.0010000 , numerical limit = 2.0030000\n",
      "h=0.0001000 , numerical limit = 2.0003000\n",
      "h=0.0000100 , numerical limit = 2.0000300\n",
      "h=0.0000010 , numerical limit = 2.0000030\n",
      "h=0.0000001 , numerical limit = 2.0000003\n"
     ]
    }
   ],
   "source": [
    "def numerical_lim(f, x, h):\n",
    "    return (f(x + h) - f(x)) / h\n",
    "\n",
    "\n",
    "h = 0.1\n",
    "for i in range(7):\n",
    "    print(f'h={h:.7f} , numerical limit = {numerical_lim(f, 1, h):.7f}')\n",
    "    h *= 0.1"
   ],
   "metadata": {
    "collapsed": false,
    "ExecuteTime": {
     "end_time": "2023-08-20T08:25:20.171211Z",
     "start_time": "2023-08-20T08:25:20.157247400Z"
    }
   },
   "id": "dc751bce1225f179"
  },
  {
   "cell_type": "code",
   "execution_count": 3,
   "outputs": [],
   "source": [
    "#@save\n",
    "def use_svg_display():\n",
    "    \"\"\"使用svg在jupyter画图\"\"\"\n",
    "    backend_inline.set_matplotlib_formats('svg')"
   ],
   "metadata": {
    "collapsed": false,
    "ExecuteTime": {
     "end_time": "2023-08-20T08:25:20.225772500Z",
     "start_time": "2023-08-20T08:25:20.173205500Z"
    }
   },
   "id": "4e4ccdd7b62a6d1c"
  },
  {
   "cell_type": "code",
   "execution_count": 4,
   "outputs": [],
   "source": [
    "\n",
    "#@save\n",
    "def set_figsize(figsize=(10, 10)):\n",
    "    use_svg_display()\n",
    "    d2l.plt.rcParams['figure.figsize'] = figsize\n",
    "    "
   ],
   "metadata": {
    "collapsed": false,
    "ExecuteTime": {
     "end_time": "2023-08-20T08:25:20.243814400Z",
     "start_time": "2023-08-20T08:25:20.187890700Z"
    }
   },
   "id": "b67ef4496c871ec4"
  }
 ],
 "metadata": {
  "kernelspec": {
   "display_name": "Python 3",
   "language": "python",
   "name": "python3"
  },
  "language_info": {
   "codemirror_mode": {
    "name": "ipython",
    "version": 2
   },
   "file_extension": ".py",
   "mimetype": "text/x-python",
   "name": "python",
   "nbconvert_exporter": "python",
   "pygments_lexer": "ipython2",
   "version": "2.7.6"
  }
 },
 "nbformat": 4,
 "nbformat_minor": 5
}
