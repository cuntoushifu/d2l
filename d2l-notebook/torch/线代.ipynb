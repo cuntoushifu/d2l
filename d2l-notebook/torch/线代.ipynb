{
 "cells": [
  {
   "cell_type": "code",
   "execution_count": 176,
   "id": "3cd8f3433ca2aa4d",
   "metadata": {
    "collapsed": true,
    "ExecuteTime": {
     "end_time": "2023-08-14T07:07:02.621580100Z",
     "start_time": "2023-08-14T07:07:02.323566600Z"
    }
   },
   "outputs": [],
   "source": [
    "import torch"
   ]
  },
  {
   "cell_type": "code",
   "execution_count": 177,
   "outputs": [
    {
     "data": {
      "text/plain": "tensor([0, 1, 2, 3])"
     },
     "execution_count": 177,
     "metadata": {},
     "output_type": "execute_result"
    }
   ],
   "source": [
    "x = torch.arange(4)\n",
    "x"
   ],
   "metadata": {
    "collapsed": false,
    "ExecuteTime": {
     "end_time": "2023-08-14T07:07:02.622579Z",
     "start_time": "2023-08-14T07:07:02.339524Z"
    }
   },
   "id": "5aa3da281135e7ef"
  },
  {
   "cell_type": "code",
   "execution_count": 178,
   "outputs": [
    {
     "data": {
      "text/plain": "tensor(0)"
     },
     "execution_count": 178,
     "metadata": {},
     "output_type": "execute_result"
    }
   ],
   "source": [
    "x[0]"
   ],
   "metadata": {
    "collapsed": false,
    "ExecuteTime": {
     "end_time": "2023-08-14T07:07:02.622579Z",
     "start_time": "2023-08-14T07:07:02.355481400Z"
    }
   },
   "id": "initial_id"
  },
  {
   "cell_type": "code",
   "execution_count": 179,
   "outputs": [
    {
     "data": {
      "text/plain": "4"
     },
     "execution_count": 179,
     "metadata": {},
     "output_type": "execute_result"
    }
   ],
   "source": [
    "len(x)"
   ],
   "metadata": {
    "collapsed": false,
    "ExecuteTime": {
     "end_time": "2023-08-14T07:07:02.623575600Z",
     "start_time": "2023-08-14T07:07:02.370443200Z"
    }
   },
   "id": "1abd4bcb3f150623"
  },
  {
   "cell_type": "code",
   "execution_count": 180,
   "outputs": [
    {
     "data": {
      "text/plain": "torch.Size([4])"
     },
     "execution_count": 180,
     "metadata": {},
     "output_type": "execute_result"
    }
   ],
   "source": [
    "x.shape"
   ],
   "metadata": {
    "collapsed": false,
    "ExecuteTime": {
     "end_time": "2023-08-14T07:07:02.623575600Z",
     "start_time": "2023-08-14T07:07:02.388391700Z"
    }
   },
   "id": "9f62b265c3eb8e92"
  },
  {
   "cell_type": "code",
   "execution_count": 181,
   "outputs": [
    {
     "data": {
      "text/plain": "(tensor([[ 0,  1,  2,  3],\n         [ 4,  5,  6,  7],\n         [ 8,  9, 10, 11],\n         [12, 13, 14, 15],\n         [16, 17, 18, 19]]),\n tensor([[ 0,  4,  8, 12, 16],\n         [ 1,  5,  9, 13, 17],\n         [ 2,  6, 10, 14, 18],\n         [ 3,  7, 11, 15, 19]]))"
     },
     "execution_count": 181,
     "metadata": {},
     "output_type": "execute_result"
    }
   ],
   "source": [
    "A = torch.arange(20).reshape((5, 4))\n",
    "A, A.T"
   ],
   "metadata": {
    "collapsed": false,
    "ExecuteTime": {
     "end_time": "2023-08-14T07:07:02.623575600Z",
     "start_time": "2023-08-14T07:07:02.402530900Z"
    }
   },
   "id": "5c9cbd5343736d14"
  },
  {
   "cell_type": "code",
   "execution_count": 182,
   "outputs": [
    {
     "data": {
      "text/plain": "tensor([[True, True, True],\n        [True, True, True],\n        [True, True, True]])"
     },
     "execution_count": 182,
     "metadata": {},
     "output_type": "execute_result"
    }
   ],
   "source": [
    "B = torch.tensor([\n",
    "    [1, 2, 3],\n",
    "    [2, 0, 4],\n",
    "    [3, 4, 5]\n",
    "])\n",
    "B == B.T"
   ],
   "metadata": {
    "collapsed": false,
    "ExecuteTime": {
     "end_time": "2023-08-14T07:07:02.623575600Z",
     "start_time": "2023-08-14T07:07:02.418486200Z"
    }
   },
   "id": "2870100964fb6438"
  },
  {
   "cell_type": "code",
   "execution_count": 183,
   "outputs": [
    {
     "data": {
      "text/plain": "tensor([[ 0.,  1.,  2.,  3.],\n        [ 4.,  5.,  6.,  7.],\n        [ 8.,  9., 10., 11.],\n        [12., 13., 14., 15.],\n        [16., 17., 18., 19.]])"
     },
     "execution_count": 183,
     "metadata": {},
     "output_type": "execute_result"
    }
   ],
   "source": [
    "A = torch.arange(20, dtype=torch.float32).reshape((5, 4))\n",
    "A"
   ],
   "metadata": {
    "collapsed": false,
    "ExecuteTime": {
     "end_time": "2023-08-14T07:07:02.624572500Z",
     "start_time": "2023-08-14T07:07:02.433445500Z"
    }
   },
   "id": "3f8bc7a90bbfc1d9"
  },
  {
   "cell_type": "code",
   "execution_count": 184,
   "outputs": [
    {
     "data": {
      "text/plain": "(tensor([[ 0.,  1.,  2.,  3.],\n         [ 4.,  5.,  6.,  7.],\n         [ 8.,  9., 10., 11.],\n         [12., 13., 14., 15.],\n         [16., 17., 18., 19.]]),\n tensor([[ 0.,  2.,  4.,  6.],\n         [ 8., 10., 12., 14.],\n         [16., 18., 20., 22.],\n         [24., 26., 28., 30.],\n         [32., 34., 36., 38.]]))"
     },
     "execution_count": 184,
     "metadata": {},
     "output_type": "execute_result"
    }
   ],
   "source": [
    "B = A.clone()\n",
    "B, B + A"
   ],
   "metadata": {
    "collapsed": false,
    "ExecuteTime": {
     "end_time": "2023-08-14T07:07:02.624572500Z",
     "start_time": "2023-08-14T07:07:02.447408200Z"
    }
   },
   "id": "cae02c58371f3a36"
  },
  {
   "cell_type": "code",
   "execution_count": 185,
   "outputs": [
    {
     "data": {
      "text/plain": "tensor([[  0.,   1.,   4.,   9.],\n        [ 16.,  25.,  36.,  49.],\n        [ 64.,  81., 100., 121.],\n        [144., 169., 196., 225.],\n        [256., 289., 324., 361.]])"
     },
     "execution_count": 185,
     "metadata": {},
     "output_type": "execute_result"
    }
   ],
   "source": [
    "A * B"
   ],
   "metadata": {
    "collapsed": false,
    "ExecuteTime": {
     "end_time": "2023-08-14T07:07:02.624572500Z",
     "start_time": "2023-08-14T07:07:02.465384300Z"
    }
   },
   "id": "92e0182b9109c525"
  },
  {
   "cell_type": "code",
   "execution_count": 186,
   "outputs": [
    {
     "data": {
      "text/plain": "(tensor([[[ 0,  1,  2,  3],\n          [ 4,  5,  6,  7],\n          [ 8,  9, 10, 11]],\n \n         [[12, 13, 14, 15],\n          [16, 17, 18, 19],\n          [20, 21, 22, 23]]]),\n tensor([[[ 2,  3,  4,  5],\n          [ 6,  7,  8,  9],\n          [10, 11, 12, 13]],\n \n         [[14, 15, 16, 17],\n          [18, 19, 20, 21],\n          [22, 23, 24, 25]]]))"
     },
     "execution_count": 186,
     "metadata": {},
     "output_type": "execute_result"
    }
   ],
   "source": [
    "a = 2\n",
    "x = torch.arange(24).reshape((2, 3, 4))\n",
    "x, a + x"
   ],
   "metadata": {
    "collapsed": false,
    "ExecuteTime": {
     "end_time": "2023-08-14T07:07:02.624572500Z",
     "start_time": "2023-08-14T07:07:02.481317600Z"
    }
   },
   "id": "1cdd83c1447b37ba"
  },
  {
   "cell_type": "code",
   "execution_count": 187,
   "outputs": [
    {
     "data": {
      "text/plain": "(tensor([[[ 0,  2,  4,  6],\n          [ 8, 10, 12, 14],\n          [16, 18, 20, 22]],\n \n         [[24, 26, 28, 30],\n          [32, 34, 36, 38],\n          [40, 42, 44, 46]]]),\n torch.Size([2, 3, 4]))"
     },
     "execution_count": 187,
     "metadata": {},
     "output_type": "execute_result"
    }
   ],
   "source": [
    "a * x, (a * x).shape"
   ],
   "metadata": {
    "collapsed": false,
    "ExecuteTime": {
     "end_time": "2023-08-14T07:07:02.625578900Z",
     "start_time": "2023-08-14T07:07:02.495741100Z"
    }
   },
   "id": "77e9493b801ff76d"
  },
  {
   "cell_type": "code",
   "execution_count": 188,
   "outputs": [
    {
     "data": {
      "text/plain": "(torch.Size([4, 5]), tensor(190.))"
     },
     "execution_count": 188,
     "metadata": {},
     "output_type": "execute_result"
    }
   ],
   "source": [
    "# x=torch.arange(24,dtype=torch.float32).reshape(2,3,4)\n",
    "x = torch.arange(20, dtype=torch.float32).reshape(4, 5)\n",
    "x.shape, x.sum()"
   ],
   "metadata": {
    "collapsed": false,
    "ExecuteTime": {
     "end_time": "2023-08-14T07:07:02.625578900Z",
     "start_time": "2023-08-14T07:07:02.512697900Z"
    }
   },
   "id": "abd8b827867e34f0"
  },
  {
   "cell_type": "code",
   "execution_count": 189,
   "outputs": [
    {
     "data": {
      "text/plain": "(tensor([[ 0.,  1.,  2.,  3.,  4.],\n         [ 5.,  6.,  7.,  8.,  9.],\n         [10., 11., 12., 13., 14.],\n         [15., 16., 17., 18., 19.]]),\n tensor([30., 34., 38., 42., 46.]),\n tensor([10., 35., 60., 85.]))"
     },
     "execution_count": 189,
     "metadata": {},
     "output_type": "execute_result"
    }
   ],
   "source": [
    "x_sum_0 = x.sum(axis=0)\n",
    "x_sum_1 = x.sum(axis=1)\n",
    "x, x_sum_0, x_sum_1"
   ],
   "metadata": {
    "collapsed": false,
    "ExecuteTime": {
     "end_time": "2023-08-14T07:07:02.626572Z",
     "start_time": "2023-08-14T07:07:02.529652Z"
    }
   },
   "id": "fe4495a17d4aaad2"
  },
  {
   "cell_type": "code",
   "execution_count": 190,
   "outputs": [
    {
     "data": {
      "text/plain": "tensor([[[ 0.,  1.,  2.,  3.],\n         [ 4.,  5.,  6.,  7.],\n         [ 8.,  9., 10., 11.]],\n\n        [[12., 13., 14., 15.],\n         [16., 17., 18., 19.],\n         [20., 21., 22., 23.]]])"
     },
     "execution_count": 190,
     "metadata": {},
     "output_type": "execute_result"
    }
   ],
   "source": [
    "y = torch.arange(24, dtype=torch.float32).reshape(2, 3, 4)\n",
    "y"
   ],
   "metadata": {
    "collapsed": false,
    "ExecuteTime": {
     "end_time": "2023-08-14T07:07:02.626572Z",
     "start_time": "2023-08-14T07:07:02.542617700Z"
    }
   },
   "id": "f97206b53eb3ad97"
  },
  {
   "cell_type": "code",
   "execution_count": 191,
   "outputs": [
    {
     "data": {
      "text/plain": "(tensor([[12., 14., 16., 18.],\n         [20., 22., 24., 26.],\n         [28., 30., 32., 34.]]),\n tensor([[12., 15., 18., 21.],\n         [48., 51., 54., 57.]]),\n tensor([[ 6., 22., 38.],\n         [54., 70., 86.]]))"
     },
     "execution_count": 191,
     "metadata": {},
     "output_type": "execute_result"
    }
   ],
   "source": [
    "y_sum_0 = y.sum(axis=0)\n",
    "y_sum_1 = y.sum(axis=1)\n",
    "y_sum_2 = y.sum(axis=2)\n",
    "y_sum_0, y_sum_1, y_sum_2"
   ],
   "metadata": {
    "collapsed": false,
    "ExecuteTime": {
     "end_time": "2023-08-14T07:07:02.641716200Z",
     "start_time": "2023-08-14T07:07:02.560671600Z"
    }
   },
   "id": "cc80d609eaa929ba"
  },
  {
   "cell_type": "code",
   "execution_count": 192,
   "outputs": [
    {
     "data": {
      "text/plain": "(tensor(9.5000), tensor(190.), tensor(9.5000), torch.Size([4, 5]), 4)"
     },
     "execution_count": 192,
     "metadata": {},
     "output_type": "execute_result"
    }
   ],
   "source": [
    "x.mean(), x.sum(), x.sum() / x.numel(), x.size(), len(x)"
   ],
   "metadata": {
    "collapsed": false,
    "ExecuteTime": {
     "end_time": "2023-08-14T07:07:02.641716200Z",
     "start_time": "2023-08-14T07:07:02.574533600Z"
    }
   },
   "id": "c0ffd9f791c26bf4"
  },
  {
   "cell_type": "code",
   "execution_count": 193,
   "outputs": [
    {
     "data": {
      "text/plain": "(tensor([[ 0.,  1.,  2.,  3.,  4.],\n         [ 5.,  6.,  7.,  8.,  9.],\n         [10., 11., 12., 13., 14.],\n         [15., 16., 17., 18., 19.]]),\n torch.Size([4, 5]))"
     },
     "execution_count": 193,
     "metadata": {},
     "output_type": "execute_result"
    }
   ],
   "source": [
    "x, x.shape"
   ],
   "metadata": {
    "collapsed": false,
    "ExecuteTime": {
     "end_time": "2023-08-14T07:07:02.642714100Z",
     "start_time": "2023-08-14T07:07:02.590491500Z"
    }
   },
   "id": "bd3273b4f5e53fc5"
  },
  {
   "cell_type": "code",
   "execution_count": 194,
   "outputs": [
    {
     "data": {
      "text/plain": "(tensor([ 7.5000,  8.5000,  9.5000, 10.5000, 11.5000]),\n tensor([ 2.,  7., 12., 17.]),\n tensor([ 7.5000,  8.5000,  9.5000, 10.5000, 11.5000]))"
     },
     "execution_count": 194,
     "metadata": {},
     "output_type": "execute_result"
    }
   ],
   "source": [
    "x.mean(axis=0), x.mean(axis=1), x.sum(axis=0) / x.shape[0]"
   ],
   "metadata": {
    "collapsed": false,
    "ExecuteTime": {
     "end_time": "2023-08-14T07:07:02.642714100Z",
     "start_time": "2023-08-14T07:07:02.606470500Z"
    }
   },
   "id": "e2fe08cab099a290"
  },
  {
   "cell_type": "code",
   "execution_count": 195,
   "outputs": [
    {
     "data": {
      "text/plain": "(tensor([[ 0.,  1.,  2.,  3.,  4.],\n         [ 5.,  6.,  7.,  8.,  9.],\n         [10., 11., 12., 13., 14.],\n         [15., 16., 17., 18., 19.]]),\n tensor([30., 34., 38., 42., 46.]))"
     },
     "execution_count": 195,
     "metadata": {},
     "output_type": "execute_result"
    }
   ],
   "source": [
    "x,x.sum(axis=0)"
   ],
   "metadata": {
    "collapsed": false,
    "ExecuteTime": {
     "end_time": "2023-08-14T07:07:02.708579500Z",
     "start_time": "2023-08-14T07:07:02.622579Z"
    }
   },
   "id": "ac1d130cb33ab1f3"
  },
  {
   "cell_type": "code",
   "execution_count": 196,
   "outputs": [
    {
     "data": {
      "text/plain": "(tensor([[30., 34., 38., 42., 46.]]), torch.Size([1, 5]))"
     },
     "execution_count": 196,
     "metadata": {},
     "output_type": "execute_result"
    }
   ],
   "source": [
    "sum_x = x.sum(axis=0,keepdims=True)\n",
    "sum_x,sum_x.shape"
   ],
   "metadata": {
    "collapsed": false,
    "ExecuteTime": {
     "end_time": "2023-08-14T07:07:03.025105200Z",
     "start_time": "2023-08-14T07:07:02.637726400Z"
    }
   },
   "id": "cc741f41dec4a9d3"
  },
  {
   "cell_type": "code",
   "execution_count": 197,
   "outputs": [
    {
     "data": {
      "text/plain": "tensor([[0.0000, 0.0294, 0.0526, 0.0714, 0.0870],\n        [0.1667, 0.1765, 0.1842, 0.1905, 0.1957],\n        [0.3333, 0.3235, 0.3158, 0.3095, 0.3043],\n        [0.5000, 0.4706, 0.4474, 0.4286, 0.4130]])"
     },
     "execution_count": 197,
     "metadata": {},
     "output_type": "execute_result"
    }
   ],
   "source": [
    "x/sum_x"
   ],
   "metadata": {
    "collapsed": false,
    "ExecuteTime": {
     "end_time": "2023-08-14T07:07:03.061693400Z",
     "start_time": "2023-08-14T07:07:02.651689Z"
    }
   },
   "id": "705f257d6c17c921"
  },
  {
   "cell_type": "code",
   "execution_count": 198,
   "outputs": [
    {
     "data": {
      "text/plain": "tensor([[ 0.,  1.,  2.,  3.,  4.],\n        [ 5.,  6.,  7.,  8.,  9.],\n        [10., 11., 12., 13., 14.],\n        [15., 16., 17., 18., 19.]])"
     },
     "execution_count": 198,
     "metadata": {},
     "output_type": "execute_result"
    }
   ],
   "source": [
    "x"
   ],
   "metadata": {
    "collapsed": false,
    "ExecuteTime": {
     "end_time": "2023-08-14T07:07:03.061693400Z",
     "start_time": "2023-08-14T07:07:02.668645600Z"
    }
   },
   "id": "8937bd90de083ff9"
  },
  {
   "cell_type": "code",
   "execution_count": 200,
   "outputs": [
    {
     "data": {
      "text/plain": "(tensor([[ 0.,  1.,  2.,  3.,  4.],\n         [ 5.,  7.,  9., 11., 13.],\n         [15., 18., 21., 24., 27.],\n         [30., 34., 38., 42., 46.]]),\n torch.Size([4, 5]),\n torch.Size([4, 5]))"
     },
     "execution_count": 200,
     "metadata": {},
     "output_type": "execute_result"
    }
   ],
   "source": [
    "x.cumsum(axis=0),x.cumsum(axis=0).shape,x.shape"
   ],
   "metadata": {
    "collapsed": false,
    "ExecuteTime": {
     "end_time": "2023-08-14T07:07:50.722574800Z",
     "start_time": "2023-08-14T07:07:50.703579800Z"
    }
   },
   "id": "1683f11f7d47b6e5"
  },
  {
   "cell_type": "code",
   "execution_count": 199,
   "outputs": [],
   "source": [],
   "metadata": {
    "collapsed": false,
    "ExecuteTime": {
     "end_time": "2023-08-14T07:07:03.066673200Z",
     "start_time": "2023-08-14T07:07:02.702554600Z"
    }
   },
   "id": "7d28f1931337cd31"
  }
 ],
 "metadata": {
  "kernelspec": {
   "display_name": "Python 3",
   "language": "python",
   "name": "python3"
  },
  "language_info": {
   "codemirror_mode": {
    "name": "ipython",
    "version": 2
   },
   "file_extension": ".py",
   "mimetype": "text/x-python",
   "name": "python",
   "nbconvert_exporter": "python",
   "pygments_lexer": "ipython2",
   "version": "2.7.6"
  }
 },
 "nbformat": 4,
 "nbformat_minor": 5
}
