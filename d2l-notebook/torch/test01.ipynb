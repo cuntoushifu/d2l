{
 "cells": [
  {
   "cell_type": "code",
   "execution_count": 126,
   "id": "initial_id",
   "metadata": {
    "collapsed": true,
    "ExecuteTime": {
     "end_time": "2023-08-20T08:17:45.836991200Z",
     "start_time": "2023-08-20T08:17:45.715855100Z"
    }
   },
   "outputs": [],
   "source": [
    "import torch\n",
    "import numpy as np\n",
    "import matplotlib.pyplot as plt"
   ]
  },
  {
   "cell_type": "code",
   "execution_count": 127,
   "outputs": [],
   "source": [
    "x = torch.arange(4, dtype=torch.float32, requires_grad=True)"
   ],
   "metadata": {
    "collapsed": false,
    "ExecuteTime": {
     "end_time": "2023-08-20T08:17:45.838955800Z",
     "start_time": "2023-08-20T08:17:45.735800600Z"
    }
   },
   "id": "68b4cd765cede9e4"
  },
  {
   "cell_type": "code",
   "execution_count": 128,
   "outputs": [
    {
     "data": {
      "text/plain": "tensor(56., grad_fn=<MulBackward0>)"
     },
     "execution_count": 128,
     "metadata": {},
     "output_type": "execute_result"
    }
   ],
   "source": [
    "#2. 在运行反向传播函数之后，立即再次运行它，看看会发生什么。\n",
    "y = 4 * torch.dot(x, x)\n",
    "y"
   ],
   "metadata": {
    "collapsed": false,
    "ExecuteTime": {
     "end_time": "2023-08-20T08:17:45.839951800Z",
     "start_time": "2023-08-20T08:17:45.754396900Z"
    }
   },
   "id": "f07155714aa96beb"
  },
  {
   "cell_type": "code",
   "execution_count": 129,
   "outputs": [
    {
     "data": {
      "text/plain": "(tensor([ 0.,  8., 16., 24.]), tensor(56., grad_fn=<MulBackward0>))"
     },
     "execution_count": 129,
     "metadata": {},
     "output_type": "execute_result"
    }
   ],
   "source": [
    "y.backward(retain_graph=True)\n",
    "x.grad, y"
   ],
   "metadata": {
    "collapsed": false,
    "ExecuteTime": {
     "end_time": "2023-08-20T08:17:45.839951800Z",
     "start_time": "2023-08-20T08:17:45.770351300Z"
    }
   },
   "id": "9cf792ce0d93fa15"
  },
  {
   "cell_type": "code",
   "execution_count": 130,
   "outputs": [],
   "source": [
    "y.backward(retain_graph=True)"
   ],
   "metadata": {
    "collapsed": false,
    "ExecuteTime": {
     "end_time": "2023-08-20T08:17:45.839951800Z",
     "start_time": "2023-08-20T08:17:45.789302500Z"
    }
   },
   "id": "6ebc2008b041995"
  },
  {
   "cell_type": "markdown",
   "source": [
    "5. 使$f(x)=\\sin(x)$，绘制$f(x)$和$\\frac{df(x)}{dx}$的图像，其中后者不使用$f'(x)=\\cos(x)$。"
   ],
   "metadata": {
    "collapsed": false
   },
   "id": "4f3e384be7213c41"
  },
  {
   "cell_type": "code",
   "execution_count": 131,
   "outputs": [],
   "source": [
    "def f(x):\n",
    "    return np.sin(x)"
   ],
   "metadata": {
    "collapsed": false,
    "ExecuteTime": {
     "end_time": "2023-08-20T08:17:45.840950100Z",
     "start_time": "2023-08-20T08:17:45.804262300Z"
    }
   },
   "id": "bf560a0460bca168"
  },
  {
   "cell_type": "code",
   "execution_count": 135,
   "outputs": [
    {
     "data": {
      "text/plain": "array([ 0.54402111,  0.54401272,  0.54400433, ..., -0.54399594,\n       -0.54400433, -0.54401272])"
     },
     "execution_count": 135,
     "metadata": {},
     "output_type": "execute_result"
    }
   ],
   "source": [
    "x=np.arange(-10,10,0.00001)\n",
    "y=f(x)"
   ],
   "metadata": {
    "collapsed": false,
    "ExecuteTime": {
     "end_time": "2023-08-20T08:19:08.136377900Z",
     "start_time": "2023-08-20T08:19:08.098842200Z"
    }
   },
   "id": "d09aca5ddd62581a"
  },
  {
   "cell_type": "code",
   "execution_count": 136,
   "outputs": [
    {
     "ename": "AttributeError",
     "evalue": "'numpy.ndarray' object has no attribute 'detach'",
     "output_type": "error",
     "traceback": [
      "\u001B[1;31m---------------------------------------------------------------------------\u001B[0m",
      "\u001B[1;31mAttributeError\u001B[0m                            Traceback (most recent call last)",
      "Cell \u001B[1;32mIn[136], line 2\u001B[0m\n\u001B[0;32m      1\u001B[0m plt\u001B[38;5;241m.\u001B[39mfigure()\n\u001B[1;32m----> 2\u001B[0m plt\u001B[38;5;241m.\u001B[39mplot(x,\u001B[43my\u001B[49m\u001B[38;5;241;43m.\u001B[39;49m\u001B[43mdetach\u001B[49m()\u001B[38;5;241m.\u001B[39mnumpy())\n",
      "\u001B[1;31mAttributeError\u001B[0m: 'numpy.ndarray' object has no attribute 'detach'"
     ]
    },
    {
     "data": {
      "text/plain": "<Figure size 640x480 with 0 Axes>"
     },
     "metadata": {},
     "output_type": "display_data"
    }
   ],
   "source": [
    "plt.figure()\n",
    "plt.plot(x,y)"
   ],
   "metadata": {
    "collapsed": false,
    "ExecuteTime": {
     "end_time": "2023-08-20T08:19:38.337191400Z",
     "start_time": "2023-08-20T08:19:38.142979800Z"
    }
   },
   "id": "bde94070cc838f3c"
  },
  {
   "cell_type": "code",
   "execution_count": null,
   "outputs": [],
   "source": [],
   "metadata": {
    "collapsed": false,
    "ExecuteTime": {
     "start_time": "2023-08-20T08:17:46.098429900Z"
    }
   },
   "id": "984ff9c8ceea7c28"
  },
  {
   "cell_type": "code",
   "execution_count": null,
   "outputs": [],
   "source": [],
   "metadata": {
    "collapsed": false,
    "ExecuteTime": {
     "start_time": "2023-08-20T08:17:46.100457700Z"
    }
   },
   "id": "75f8f4de679a2bc0"
  }
 ],
 "metadata": {
  "kernelspec": {
   "display_name": "Python 3",
   "language": "python",
   "name": "python3"
  },
  "language_info": {
   "codemirror_mode": {
    "name": "ipython",
    "version": 2
   },
   "file_extension": ".py",
   "mimetype": "text/x-python",
   "name": "python",
   "nbconvert_exporter": "python",
   "pygments_lexer": "ipython2",
   "version": "2.7.6"
  }
 },
 "nbformat": 4,
 "nbformat_minor": 5
}
