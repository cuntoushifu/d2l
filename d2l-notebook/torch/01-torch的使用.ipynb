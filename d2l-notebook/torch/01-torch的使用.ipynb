{
 "cells": [
  {
   "cell_type": "code",
   "execution_count": 1,
   "outputs": [],
   "source": [],
   "metadata": {
    "collapsed": false,
    "ExecuteTime": {
     "end_time": "2023-08-10T06:16:47.835221500Z",
     "start_time": "2023-08-10T06:16:47.655130500Z"
    }
   },
   "id": "2893b76a8118afe3"
  },
  {
   "cell_type": "code",
   "execution_count": 2,
   "outputs": [],
   "source": [
    "\n",
    "import torch"
   ],
   "metadata": {
    "collapsed": false,
    "ExecuteTime": {
     "end_time": "2023-08-10T06:16:48.518394500Z",
     "start_time": "2023-08-10T06:16:47.676072400Z"
    }
   },
   "id": "3f7534935e49fcd5"
  },
  {
   "cell_type": "markdown",
   "source": [
    "# 1. 创建张量\n"
   ],
   "metadata": {
    "collapsed": false
   },
   "id": "2a590393e67a230f"
  },
  {
   "cell_type": "code",
   "execution_count": 3,
   "outputs": [],
   "source": [
    "## 1.1 arange"
   ],
   "metadata": {
    "collapsed": false,
    "ExecuteTime": {
     "end_time": "2023-08-10T06:16:48.535349600Z",
     "start_time": "2023-08-10T06:16:48.520391200Z"
    }
   },
   "id": "5cf92bc51dc9af18"
  },
  {
   "cell_type": "code",
   "execution_count": 4,
   "outputs": [
    {
     "data": {
      "text/plain": "tensor([ 0,  1,  2,  3,  4,  5,  6,  7,  8,  9, 10, 11, 12, 13, 14, 15, 16, 17,\n        18, 19])"
     },
     "execution_count": 4,
     "metadata": {},
     "output_type": "execute_result"
    }
   ],
   "source": [
    "x=torch.arange(20)\n",
    "x"
   ],
   "metadata": {
    "collapsed": false,
    "ExecuteTime": {
     "end_time": "2023-08-10T06:16:48.593194Z",
     "start_time": "2023-08-10T06:16:48.536348200Z"
    }
   },
   "id": "f6f3713ca171b699"
  },
  {
   "cell_type": "code",
   "execution_count": 5,
   "outputs": [
    {
     "data": {
      "text/plain": "torch.Size([20])"
     },
     "execution_count": 5,
     "metadata": {},
     "output_type": "execute_result"
    }
   ],
   "source": [
    "x.shape"
   ],
   "metadata": {
    "collapsed": false,
    "ExecuteTime": {
     "end_time": "2023-08-10T06:16:48.605163900Z",
     "start_time": "2023-08-10T06:16:48.555295900Z"
    }
   },
   "id": "cb8e82a28cde0c38"
  },
  {
   "cell_type": "code",
   "execution_count": 6,
   "outputs": [
    {
     "data": {
      "text/plain": "20"
     },
     "execution_count": 6,
     "metadata": {},
     "output_type": "execute_result"
    }
   ],
   "source": [
    "xsize=x.numel()\n",
    "xsize"
   ],
   "metadata": {
    "collapsed": false,
    "ExecuteTime": {
     "end_time": "2023-08-10T06:16:48.606161400Z",
     "start_time": "2023-08-10T06:16:48.568264200Z"
    }
   },
   "id": "2016788a71bd09fa"
  },
  {
   "cell_type": "markdown",
   "source": [
    "### 1.2 多维tensor"
   ],
   "metadata": {
    "collapsed": false
   },
   "id": "35f70e0ad1197499"
  },
  {
   "cell_type": "code",
   "execution_count": 7,
   "outputs": [
    {
     "data": {
      "text/plain": "tensor([[11, 12, 13, 14],\n        [21, 22, 23, 24],\n        [31, 32, 33, 34]])"
     },
     "execution_count": 7,
     "metadata": {},
     "output_type": "execute_result"
    }
   ],
   "source": [
    "y=torch.tensor([\n",
    "    [11,12,13,14],\n",
    "    [21,22,23,24],\n",
    "    [31,32,33,34]\n",
    "])\n",
    "y"
   ],
   "metadata": {
    "collapsed": false,
    "ExecuteTime": {
     "end_time": "2023-08-10T06:16:48.607158700Z",
     "start_time": "2023-08-10T06:16:48.582224700Z"
    }
   },
   "id": "651dd49caa8fb2a8"
  },
  {
   "cell_type": "code",
   "execution_count": 8,
   "outputs": [
    {
     "data": {
      "text/plain": "torch.Size([3, 4])"
     },
     "execution_count": 8,
     "metadata": {},
     "output_type": "execute_result"
    }
   ],
   "source": [
    "y.shape"
   ],
   "metadata": {
    "collapsed": false,
    "ExecuteTime": {
     "end_time": "2023-08-10T06:16:48.627106400Z",
     "start_time": "2023-08-10T06:16:48.598183100Z"
    }
   },
   "id": "e0c117fc25153799"
  },
  {
   "cell_type": "code",
   "execution_count": 9,
   "outputs": [
    {
     "data": {
      "text/plain": "12"
     },
     "execution_count": 9,
     "metadata": {},
     "output_type": "execute_result"
    }
   ],
   "source": [
    "ysize=y.numel()\n",
    "ysize"
   ],
   "metadata": {
    "collapsed": false,
    "ExecuteTime": {
     "end_time": "2023-08-10T06:16:48.717798400Z",
     "start_time": "2023-08-10T06:16:48.614140300Z"
    }
   },
   "id": "22ea3939d2cc0eb4"
  },
  {
   "cell_type": "code",
   "execution_count": 10,
   "outputs": [
    {
     "data": {
      "text/plain": "tensor([[ 0,  1,  2,  3,  4],\n        [ 5,  6,  7,  8,  9],\n        [10, 11, 12, 13, 14],\n        [15, 16, 17, 18, 19]])"
     },
     "execution_count": 10,
     "metadata": {},
     "output_type": "execute_result"
    }
   ],
   "source": [
    "tmp=x.reshape(4,5)\n",
    "tmp"
   ],
   "metadata": {
    "collapsed": false,
    "ExecuteTime": {
     "end_time": "2023-08-10T06:16:48.741693300Z",
     "start_time": "2023-08-10T06:16:48.628104600Z"
    }
   },
   "id": "a3f47da6736817aa"
  },
  {
   "cell_type": "code",
   "execution_count": 11,
   "outputs": [
    {
     "data": {
      "text/plain": "tensor([11, 12, 13, 14, 21, 22, 23, 24, 31, 32, 33, 34])"
     },
     "execution_count": 11,
     "metadata": {},
     "output_type": "execute_result"
    }
   ],
   "source": [
    "tmp=y.reshape(-1)\n",
    "tmp"
   ],
   "metadata": {
    "collapsed": false,
    "ExecuteTime": {
     "end_time": "2023-08-10T06:16:48.742691Z",
     "start_time": "2023-08-10T06:16:48.641066900Z"
    }
   },
   "id": "978e6ae2391325a0"
  },
  {
   "cell_type": "code",
   "execution_count": 12,
   "outputs": [
    {
     "data": {
      "text/plain": "tensor([[[0., 0., 0., 0.],\n         [0., 0., 0., 0.],\n         [0., 0., 0., 0.]],\n\n        [[0., 0., 0., 0.],\n         [0., 0., 0., 0.],\n         [0., 0., 0., 0.]]])"
     },
     "execution_count": 12,
     "metadata": {},
     "output_type": "execute_result"
    }
   ],
   "source": [
    "torch.zeros((2, 3, 4))"
   ],
   "metadata": {
    "collapsed": false,
    "ExecuteTime": {
     "end_time": "2023-08-10T06:16:48.742691Z",
     "start_time": "2023-08-10T06:16:48.659914600Z"
    }
   },
   "id": "a7deeebcf84f102e"
  },
  {
   "cell_type": "code",
   "execution_count": 13,
   "outputs": [
    {
     "data": {
      "text/plain": "tensor([[[0., 0., 0.],\n         [0., 0., 0.]],\n\n        [[0., 0., 0.],\n         [0., 0., 0.]],\n\n        [[0., 0., 0.],\n         [0., 0., 0.]]])"
     },
     "execution_count": 13,
     "metadata": {},
     "output_type": "execute_result"
    }
   ],
   "source": [
    "torch.zeros((3, 2, 3))"
   ],
   "metadata": {
    "collapsed": false,
    "ExecuteTime": {
     "end_time": "2023-08-10T06:16:48.755655500Z",
     "start_time": "2023-08-10T06:16:48.673874900Z"
    }
   },
   "id": "60dc54d66b7a788"
  },
  {
   "cell_type": "code",
   "execution_count": 14,
   "outputs": [
    {
     "data": {
      "text/plain": "tensor([[[1., 1., 1.],\n         [1., 1., 1.]],\n\n        [[1., 1., 1.],\n         [1., 1., 1.]],\n\n        [[1., 1., 1.],\n         [1., 1., 1.]]])"
     },
     "execution_count": 14,
     "metadata": {},
     "output_type": "execute_result"
    }
   ],
   "source": [
    "torch.ones((3,2,3))"
   ],
   "metadata": {
    "collapsed": false,
    "ExecuteTime": {
     "end_time": "2023-08-10T06:16:48.756698700Z",
     "start_time": "2023-08-10T06:16:48.693822800Z"
    }
   },
   "id": "7d7ed76e02d7a4f6"
  },
  {
   "cell_type": "code",
   "execution_count": 15,
   "outputs": [
    {
     "data": {
      "text/plain": "(tensor([ 3.0000,  5.5000,  7.0000, 15.5000]),\n tensor([ 1.0000,  0.5000,  1.0000, -5.5000]),\n tensor([ 2.0000,  7.5000, 12.0000, 52.5000]))"
     },
     "execution_count": 15,
     "metadata": {},
     "output_type": "execute_result"
    }
   ],
   "source": [
    "x=torch.tensor([1.0,2.5,3,10.5])\n",
    "y=torch.tensor([2.0,3.0,4.0,5.0])\n",
    "x+y,y-x,y*x"
   ],
   "metadata": {
    "collapsed": false,
    "ExecuteTime": {
     "end_time": "2023-08-10T06:16:48.758649500Z",
     "start_time": "2023-08-10T06:16:48.705788800Z"
    }
   },
   "id": "dd42d9224686a8f5"
  },
  {
   "cell_type": "code",
   "execution_count": 16,
   "outputs": [
    {
     "data": {
      "text/plain": "(tensor([ 4.,  8., 16., 32.]), tensor([1.0000, 1.5000, 2.0000, 2.5000]))"
     },
     "execution_count": 16,
     "metadata": {},
     "output_type": "execute_result"
    }
   ],
   "source": [
    "x=torch.tensor([2.0,2,2,2],dtype=torch.float32)\n",
    "y=torch.tensor([2.0,3.0,4.0,5.0])\n",
    "x**y,y/x"
   ],
   "metadata": {
    "collapsed": false,
    "ExecuteTime": {
     "end_time": "2023-08-10T06:16:48.759647Z",
     "start_time": "2023-08-10T06:16:48.721748400Z"
    }
   },
   "id": "5c7d083133796b33"
  },
  {
   "cell_type": "code",
   "execution_count": 17,
   "outputs": [
    {
     "data": {
      "text/plain": "tensor([1.0000, 7.3891, 7.3891, 7.3891])"
     },
     "execution_count": 17,
     "metadata": {},
     "output_type": "execute_result"
    }
   ],
   "source": [
    "x=torch.tensor([0,2,2,2],dtype=torch.float32)\n",
    "torch.exp(x)"
   ],
   "metadata": {
    "collapsed": false,
    "ExecuteTime": {
     "end_time": "2023-08-10T06:16:48.890918900Z",
     "start_time": "2023-08-10T06:16:48.738700500Z"
    }
   },
   "id": "bdf2985ef2008b8c"
  },
  {
   "cell_type": "code",
   "execution_count": 19,
   "outputs": [
    {
     "data": {
      "text/plain": "(tensor([[ 0.,  1.,  2.,  3.],\n         [ 4.,  5.,  6.,  7.],\n         [ 8.,  9., 10., 11.]]),\n tensor([[11., 12., 13., 14.],\n         [21., 22., 23., 24.],\n         [31., 32., 33., 34.]]))"
     },
     "execution_count": 19,
     "metadata": {},
     "output_type": "execute_result"
    }
   ],
   "source": [
    "x=torch.arange(12,dtype=torch.float32).reshape((3,4))\n",
    "y=torch.tensor([\n",
    "    [11,12,13,14],\n",
    "    [21,22,23,24],\n",
    "    [31,32,33,34]\n",
    "],dtype=torch.float32)\n",
    "x,y"
   ],
   "metadata": {
    "collapsed": false,
    "ExecuteTime": {
     "end_time": "2023-08-10T06:17:44.541908500Z",
     "start_time": "2023-08-10T06:17:44.495012500Z"
    }
   },
   "id": "8a67d473773ff70b"
  },
  {
   "cell_type": "code",
   "execution_count": 24,
   "outputs": [
    {
     "data": {
      "text/plain": "(tensor([[ 0.,  1.,  2.,  3.],\n         [ 4.,  5.,  6.,  7.],\n         [ 8.,  9., 10., 11.],\n         [11., 12., 13., 14.],\n         [21., 22., 23., 24.],\n         [31., 32., 33., 34.]]),\n tensor([[ 0.,  1.,  2.,  3., 11., 12., 13., 14.],\n         [ 4.,  5.,  6.,  7., 21., 22., 23., 24.],\n         [ 8.,  9., 10., 11., 31., 32., 33., 34.]]),\n tensor([[ 0.,  1.,  2.,  3., 11., 12., 13., 14.],\n         [ 4.,  5.,  6.,  7., 21., 22., 23., 24.],\n         [ 8.,  9., 10., 11., 31., 32., 33., 34.]]))"
     },
     "execution_count": 24,
     "metadata": {},
     "output_type": "execute_result"
    }
   ],
   "source": [
    "torch.cat((x,y),dim=0),torch.cat((x,y),dim=-1),torch.cat((x,y),dim=1)"
   ],
   "metadata": {
    "collapsed": false,
    "ExecuteTime": {
     "end_time": "2023-08-10T06:19:13.231006200Z",
     "start_time": "2023-08-10T06:19:13.213809100Z"
    }
   },
   "id": "b6d01fc6654ad5a"
  },
  {
   "cell_type": "code",
   "execution_count": 26,
   "outputs": [
    {
     "data": {
      "text/plain": "(tensor([[[1., 1., 1., 1., 1.],\n          [1., 1., 1., 1., 1.],\n          [1., 1., 1., 1., 1.],\n          [1., 1., 1., 1., 1.]],\n \n         [[1., 1., 1., 1., 1.],\n          [1., 1., 1., 1., 1.],\n          [1., 1., 1., 1., 1.],\n          [1., 1., 1., 1., 1.]],\n \n         [[1., 1., 1., 1., 1.],\n          [1., 1., 1., 1., 1.],\n          [1., 1., 1., 1., 1.],\n          [1., 1., 1., 1., 1.]]]),\n tensor([[[0., 0., 0., 0., 0.],\n          [0., 0., 0., 0., 0.],\n          [0., 0., 0., 0., 0.],\n          [0., 0., 0., 0., 0.]],\n \n         [[0., 0., 0., 0., 0.],\n          [0., 0., 0., 0., 0.],\n          [0., 0., 0., 0., 0.],\n          [0., 0., 0., 0., 0.]],\n \n         [[0., 0., 0., 0., 0.],\n          [0., 0., 0., 0., 0.],\n          [0., 0., 0., 0., 0.],\n          [0., 0., 0., 0., 0.]]]))"
     },
     "execution_count": 26,
     "metadata": {},
     "output_type": "execute_result"
    }
   ],
   "source": [
    "x=torch.ones((3,4,5))\n",
    "y=torch.zeros((3,4,5))\n",
    "x,y"
   ],
   "metadata": {
    "collapsed": false,
    "ExecuteTime": {
     "end_time": "2023-08-10T06:21:14.662668100Z",
     "start_time": "2023-08-10T06:21:14.632075400Z"
    }
   },
   "id": "39efe75cc9c2d806"
  },
  {
   "cell_type": "code",
   "execution_count": 32,
   "outputs": [
    {
     "name": "stdout",
     "output_type": "stream",
     "text": [
      "Help on built-in function ones:\n",
      "\n",
      "ones(...)\n",
      "    ones(*size, *, out=None, dtype=None, layout=torch.strided, device=None, requires_grad=False) -> Tensor\n",
      "    \n",
      "    Returns a tensor filled with the scalar value `1`, with the shape defined\n",
      "    by the variable argument :attr:`size`.\n",
      "    \n",
      "    Args:\n",
      "        size (int...): a sequence of integers defining the shape of the output tensor.\n",
      "            Can be a variable number of arguments or a collection like a list or tuple.\n",
      "    \n",
      "    Keyword arguments:\n",
      "        out (Tensor, optional): the output tensor.\n",
      "        dtype (:class:`torch.dtype`, optional): the desired data type of returned tensor.\n",
      "            Default: if ``None``, uses a global default (see :func:`torch.set_default_tensor_type`).\n",
      "        layout (:class:`torch.layout`, optional): the desired layout of returned Tensor.\n",
      "            Default: ``torch.strided``.\n",
      "        device (:class:`torch.device`, optional): the desired device of returned tensor.\n",
      "            Default: if ``None``, uses the current device for the default tensor type\n",
      "            (see :func:`torch.set_default_tensor_type`). :attr:`device` will be the CPU\n",
      "            for CPU tensor types and the current CUDA device for CUDA tensor types.\n",
      "        requires_grad (bool, optional): If autograd should record operations on the\n",
      "            returned tensor. Default: ``False``.\n",
      "    \n",
      "    Example::\n",
      "    \n",
      "        >>> torch.ones(2, 3)\n",
      "        tensor([[ 1.,  1.,  1.],\n",
      "                [ 1.,  1.,  1.]])\n",
      "    \n",
      "        >>> torch.ones(5)\n",
      "        tensor([ 1.,  1.,  1.,  1.,  1.])\n"
     ]
    }
   ],
   "source": [
    "help(torch.ones)"
   ],
   "metadata": {
    "collapsed": false,
    "ExecuteTime": {
     "end_time": "2023-08-10T06:23:34.077609900Z",
     "start_time": "2023-08-10T06:23:34.057663400Z"
    }
   },
   "id": "f54d08d30be50266"
  },
  {
   "cell_type": "code",
   "execution_count": 34,
   "outputs": [
    {
     "data": {
      "text/plain": "(tensor([[False, False, False, False],\n         [False, False, False, False],\n         [False, False, False, False]]),\n tensor(12.))"
     },
     "execution_count": 34,
     "metadata": {},
     "output_type": "execute_result"
    }
   ],
   "source": [
    "x=torch.ones((3,4))\n",
    "y=torch.zeros((3,4))\n",
    "x==y,torch.sum(x)"
   ],
   "metadata": {
    "collapsed": false,
    "ExecuteTime": {
     "end_time": "2023-08-10T06:27:36.283895400Z",
     "start_time": "2023-08-10T06:27:36.257304Z"
    }
   },
   "id": "e7043daac4b27208"
  },
  {
   "cell_type": "code",
   "execution_count": null,
   "outputs": [],
   "source": [],
   "metadata": {
    "collapsed": false
   },
   "id": "a31994b04e3a1410"
  }
 ],
 "metadata": {
  "kernelspec": {
   "display_name": "Python 3",
   "language": "python",
   "name": "python3"
  },
  "language_info": {
   "codemirror_mode": {
    "name": "ipython",
    "version": 2
   },
   "file_extension": ".py",
   "mimetype": "text/x-python",
   "name": "python",
   "nbconvert_exporter": "python",
   "pygments_lexer": "ipython2",
   "version": "2.7.6"
  }
 },
 "nbformat": 4,
 "nbformat_minor": 5
}
