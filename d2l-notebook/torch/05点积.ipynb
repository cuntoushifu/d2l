{
 "cells": [
  {
   "cell_type": "code",
   "execution_count": 68,
   "id": "initial_id",
   "metadata": {
    "collapsed": true,
    "ExecuteTime": {
     "end_time": "2023-08-14T08:29:12.802730600Z",
     "start_time": "2023-08-14T08:29:12.739129800Z"
    }
   },
   "outputs": [],
   "source": [
    "import torch\n"
   ]
  },
  {
   "cell_type": "code",
   "execution_count": 69,
   "outputs": [
    {
     "data": {
      "text/plain": "(tensor([0., 1., 2., 3.]),\n tensor([1., 1., 1., 1.]),\n tensor([[ 0.,  1.,  2.,  3.],\n         [ 4.,  5.,  6.,  7.],\n         [ 8.,  9., 10., 11.],\n         [12., 13., 14., 15.],\n         [16., 17., 18., 19.]]))"
     },
     "execution_count": 69,
     "metadata": {},
     "output_type": "execute_result"
    }
   ],
   "source": [
    "x=torch.arange(4,dtype=torch.float32)\n",
    "y=torch.ones(4,dtype=torch.float32)\n",
    "A=torch.arange(20,dtype=torch.float32).reshape(5,4)\n",
    "x,y,A"
   ],
   "metadata": {
    "collapsed": false,
    "ExecuteTime": {
     "end_time": "2023-08-14T08:29:12.873542900Z",
     "start_time": "2023-08-14T08:29:12.749102600Z"
    }
   },
   "id": "a4afee600b4ea18e"
  },
  {
   "cell_type": "markdown",
   "source": [
    "# 向量的点积\n",
    "x的转置乘以y"
   ],
   "metadata": {
    "collapsed": false
   },
   "id": "fdd5965c4dce66fa"
  },
  {
   "cell_type": "code",
   "execution_count": 70,
   "outputs": [
    {
     "data": {
      "text/plain": "(tensor([0., 1., 2., 3.]), tensor(6.), tensor(6.))"
     },
     "execution_count": 70,
     "metadata": {},
     "output_type": "execute_result"
    }
   ],
   "source": [
    "x*y,torch.dot(x,y),torch.sum(x*y)"
   ],
   "metadata": {
    "collapsed": false,
    "ExecuteTime": {
     "end_time": "2023-08-14T08:29:12.942357500Z",
     "start_time": "2023-08-14T08:29:12.764833Z"
    }
   },
   "id": "5b188b3ca6f99f9a"
  },
  {
   "cell_type": "markdown",
   "source": [
    "# 矩阵向量积"
   ],
   "metadata": {
    "collapsed": false
   },
   "id": "93f065f1b6be9e57"
  },
  {
   "cell_type": "code",
   "execution_count": 71,
   "outputs": [
    {
     "data": {
      "text/plain": "(torch.Size([5, 4]), torch.Size([4]), tensor([ 14.,  38.,  62.,  86., 110.]))"
     },
     "execution_count": 71,
     "metadata": {},
     "output_type": "execute_result"
    }
   ],
   "source": [
    "A.shape,x.shape,torch.mv(A,x)"
   ],
   "metadata": {
    "collapsed": false,
    "ExecuteTime": {
     "end_time": "2023-08-14T08:29:12.943354500Z",
     "start_time": "2023-08-14T08:29:12.780789600Z"
    }
   },
   "id": "e61e202f5fb2db1c"
  },
  {
   "cell_type": "markdown",
   "source": [
    "# 矩阵矩阵乘法"
   ],
   "metadata": {
    "collapsed": false
   },
   "id": "453f07a1e8b76619"
  },
  {
   "cell_type": "code",
   "execution_count": 72,
   "outputs": [
    {
     "data": {
      "text/plain": "(tensor([[ 0.,  1.,  2.,  3.],\n         [ 4.,  5.,  6.,  7.],\n         [ 8.,  9., 10., 11.],\n         [12., 13., 14., 15.],\n         [16., 17., 18., 19.]]),\n tensor([[1., 1., 1.],\n         [1., 1., 1.],\n         [1., 1., 1.],\n         [1., 1., 1.]]),\n tensor([[ 6.,  6.,  6.],\n         [22., 22., 22.],\n         [38., 38., 38.],\n         [54., 54., 54.],\n         [70., 70., 70.]]))"
     },
     "execution_count": 72,
     "metadata": {},
     "output_type": "execute_result"
    }
   ],
   "source": [
    "B=torch.ones(4,3)\n",
    "A,B,torch.mm(A,B)"
   ],
   "metadata": {
    "collapsed": false,
    "ExecuteTime": {
     "end_time": "2023-08-14T08:29:12.947343900Z",
     "start_time": "2023-08-14T08:29:12.795749500Z"
    }
   },
   "id": "9802039d9c2de753"
  },
  {
   "cell_type": "markdown",
   "source": [
    "# 范数"
   ],
   "metadata": {
    "collapsed": false
   },
   "id": "fc760e97605f1226"
  },
  {
   "cell_type": "code",
   "execution_count": 73,
   "outputs": [
    {
     "data": {
      "text/plain": "tensor(5.)"
     },
     "execution_count": 73,
     "metadata": {},
     "output_type": "execute_result"
    }
   ],
   "source": [
    "u=torch.tensor([3.0,-4.0])\n",
    "torch.norm(u)"
   ],
   "metadata": {
    "collapsed": false,
    "ExecuteTime": {
     "end_time": "2023-08-14T08:29:12.948342Z",
     "start_time": "2023-08-14T08:29:12.811708200Z"
    }
   },
   "id": "e94ab11612e474a7"
  },
  {
   "cell_type": "code",
   "execution_count": 74,
   "outputs": [
    {
     "data": {
      "text/plain": "tensor(7.)"
     },
     "execution_count": 74,
     "metadata": {},
     "output_type": "execute_result"
    }
   ],
   "source": [
    "torch.abs(u).sum()"
   ],
   "metadata": {
    "collapsed": false,
    "ExecuteTime": {
     "end_time": "2023-08-14T08:29:12.948342Z",
     "start_time": "2023-08-14T08:29:12.826667Z"
    }
   },
   "id": "d60a257dc22f39f2"
  },
  {
   "cell_type": "code",
   "execution_count": 75,
   "outputs": [
    {
     "data": {
      "text/plain": "tensor(6.)"
     },
     "execution_count": 75,
     "metadata": {},
     "output_type": "execute_result"
    }
   ],
   "source": [
    "C=torch.ones((9,4),dtype=torch.float32)\n",
    "torch.norm(C)"
   ],
   "metadata": {
    "collapsed": false,
    "ExecuteTime": {
     "end_time": "2023-08-14T08:29:12.949342400Z",
     "start_time": "2023-08-14T08:29:12.841626700Z"
    }
   },
   "id": "4fbbb6ee8eb4b85a"
  },
  {
   "cell_type": "code",
   "execution_count": 76,
   "outputs": [
    {
     "data": {
      "text/plain": "9"
     },
     "execution_count": 76,
     "metadata": {},
     "output_type": "execute_result"
    }
   ],
   "source": [
    "len(C)"
   ],
   "metadata": {
    "collapsed": false,
    "ExecuteTime": {
     "end_time": "2023-08-14T08:29:12.950336400Z",
     "start_time": "2023-08-14T08:29:12.858580900Z"
    }
   },
   "id": "b96882802f261ed8"
  },
  {
   "cell_type": "code",
   "execution_count": 77,
   "outputs": [
    {
     "data": {
      "text/plain": "2"
     },
     "execution_count": 77,
     "metadata": {},
     "output_type": "execute_result"
    }
   ],
   "source": [
    "A=torch.arange(24).reshape(2,3,4)\n",
    "len(A)"
   ],
   "metadata": {
    "collapsed": false,
    "ExecuteTime": {
     "end_time": "2023-08-14T08:29:12.952329800Z",
     "start_time": "2023-08-14T08:29:12.875536100Z"
    }
   },
   "id": "a85b62fe0d1c4a3b"
  },
  {
   "cell_type": "code",
   "execution_count": 79,
   "outputs": [
    {
     "data": {
      "text/plain": "(tensor([0, 1, 2, 3]),\n tensor([[0],\n         [1],\n         [2],\n         [3]]),\n tensor([[0, 0, 0, 0],\n         [0, 1, 2, 3],\n         [0, 2, 4, 6],\n         [0, 3, 6, 9]]))"
     },
     "execution_count": 79,
     "metadata": {},
     "output_type": "execute_result"
    }
   ],
   "source": [
    "A=torch.arange(4)\n",
    "A,A.reshape(4,1),A*A.reshape(4,1)"
   ],
   "metadata": {
    "collapsed": false,
    "ExecuteTime": {
     "end_time": "2023-08-14T08:29:27.767241700Z",
     "start_time": "2023-08-14T08:29:27.740268600Z"
    }
   },
   "id": "dc3ca5ea4268969e"
  },
  {
   "cell_type": "code",
   "execution_count": 78,
   "outputs": [],
   "source": [],
   "metadata": {
    "collapsed": false,
    "ExecuteTime": {
     "end_time": "2023-08-14T08:29:13.060978100Z",
     "start_time": "2023-08-14T08:29:12.905457300Z"
    }
   },
   "id": "89b6bf4d1c79a23b"
  }
 ],
 "metadata": {
  "kernelspec": {
   "display_name": "Python 3",
   "language": "python",
   "name": "python3"
  },
  "language_info": {
   "codemirror_mode": {
    "name": "ipython",
    "version": 2
   },
   "file_extension": ".py",
   "mimetype": "text/x-python",
   "name": "python",
   "nbconvert_exporter": "python",
   "pygments_lexer": "ipython2",
   "version": "2.7.6"
  }
 },
 "nbformat": 4,
 "nbformat_minor": 5
}
